{
  "nbformat": 4,
  "nbformat_minor": 0,
  "metadata": {
    "colab": {
      "provenance": [],
      "authorship_tag": "ABX9TyO/bt3KFXjwom3JpQr9Cdcq",
      "include_colab_link": true
    },
    "kernelspec": {
      "name": "python3",
      "display_name": "Python 3"
    },
    "language_info": {
      "name": "python"
    }
  },
  "cells": [
    {
      "cell_type": "markdown",
      "metadata": {
        "id": "view-in-github",
        "colab_type": "text"
      },
      "source": [
        "<a href=\"https://colab.research.google.com/github/froggyroot/2024bootcamp/blob/main/1%EC%A3%BC%EC%B0%A8.ipynb\" target=\"_parent\"><img src=\"https://colab.research.google.com/assets/colab-badge.svg\" alt=\"Open In Colab\"/></a>"
      ]
    },
    {
      "cell_type": "code",
      "execution_count": null,
      "metadata": {
        "id": "0DzgIOkKpXSJ"
      },
      "outputs": [],
      "source": [
        "# 2024-07-08\n",
        "# 1주차\n",
        "\n",
        "# 학습 목표 : 튜플, 리스트, 딕셔너리 이해\n",
        "# 학습 목표 : 반복문, MY SQL 데이터 불러오기"
      ]
    },
    {
      "cell_type": "code",
      "source": [
        "# list 타입을 변수 초기화 하고 싶을 때 + 빈 깡통 리스트 생성\n",
        "list1 = []\n",
        "\n",
        "# 리스트 갯수 확인\n",
        "list2=[1,2,3,4,5,1,3]\n",
        "print(len(list2))"
      ],
      "metadata": {
        "colab": {
          "base_uri": "https://localhost:8080/"
        },
        "id": "2a2jWJgmqjXH",
        "outputId": "0d294aa2-2daa-4d72-967d-61e1a05a5c34"
      },
      "execution_count": 27,
      "outputs": [
        {
          "output_type": "stream",
          "name": "stdout",
          "text": [
            "7\n"
          ]
        }
      ]
    },
    {
      "cell_type": "code",
      "source": [
        "# 리스트 타입은 수정이 가능\n",
        "\n",
        "print(list2[3]) # 4라고 뜸\n",
        "\n",
        "# 리스트 변경\n",
        "list2[3] = 7\n",
        "print(list2[3])\n",
        "\n",
        "# 리스트 추가(맨 끝에다 증가,증가, 증가) append\n",
        "list2.append(100)\n",
        "print(list2)\n",
        "\n",
        "# 리스트 삽입(중간 중간에 삽입 가능.) insert [낑겨넣을 위치랑 값 2개를 매개변수로 받음]\n",
        "list2.insert(0,666)\n",
        "print(list2)\n",
        "\n",
        "#github에 저장"
      ],
      "metadata": {
        "colab": {
          "base_uri": "https://localhost:8080/"
        },
        "id": "1qImtb0OquNO",
        "outputId": "7dea3ea6-3e9e-41e2-ab57-cf9a3b4cbdee"
      },
      "execution_count": 28,
      "outputs": [
        {
          "output_type": "stream",
          "name": "stdout",
          "text": [
            "4\n",
            "7\n",
            "[1, 2, 3, 7, 5, 1, 3, 100]\n",
            "[666, 1, 2, 3, 7, 5, 1, 3, 100]\n"
          ]
        }
      ]
    },
    {
      "cell_type": "code",
      "source": [
        "# 반복문 (for, while)\n",
        "\n",
        "# while 조건 :\n",
        "# 조건이 참일 동안만 \" : \" 밑 문장이 돌아감\n",
        "# i 가 탈출할 수 있게 (코드 추가)\n",
        "i=0\n",
        "while i < 9 :\n",
        "  print('sonny')\n",
        "  i = i+1\n",
        "\n",
        "\n",
        "# for : 반복 실행 . (횟수)\n",
        "# for i in [1,2,3,4,5] :\n",
        "# for i in range (1,10,1) 순서대로 \"초기값, 끝값, 증가값\"\n",
        "# => 이 말은 1부터 10까지 증가량 1씩 리스트 만들기\n",
        "\n",
        "print('nice one sonny')"
      ],
      "metadata": {
        "colab": {
          "base_uri": "https://localhost:8080/"
        },
        "id": "CC2ilxurxBA8",
        "outputId": "d0258995-8dc4-4315-8b43-ec3da64ed026"
      },
      "execution_count": 34,
      "outputs": [
        {
          "output_type": "stream",
          "name": "stdout",
          "text": [
            "sonny\n",
            "sonny\n",
            "sonny\n",
            "sonny\n",
            "sonny\n",
            "sonny\n",
            "sonny\n",
            "sonny\n",
            "sonny\n",
            "nice one sonny\n"
          ]
        }
      ]
    },
    {
      "cell_type": "code",
      "source": [
        "# while문과 if문 중첩 사용\n",
        "# 1.보관 식재료 출력 2.식재료 추가 3.식재료 삭제 5.종료\n",
        "\n",
        "food = []\n",
        "menu =()\n",
        "\n",
        "while menu != 5:\n",
        "  print('1.보관 식재료 출력 2. 식재료 추가 3. 식제료 삭제 4. 종료')\n",
        "  menu = int(input('관리 메뉴를 선택하세요'))\n",
        "\n",
        "  if menu == 2:\n",
        "    name_menu = input('식재료를 입력하세요')\n",
        "    food.append(name_menu)\n",
        "    print(food)\n",
        "\n",
        "  if menu == 5:\n",
        "    break"
      ],
      "metadata": {
        "colab": {
          "base_uri": "https://localhost:8080/"
        },
        "id": "OrKv_qCP5-0F",
        "outputId": "9d17d3bf-b8a3-41a9-f32e-a880eb2a4be5"
      },
      "execution_count": 42,
      "outputs": [
        {
          "name": "stdout",
          "output_type": "stream",
          "text": [
            "1.보관 식재료 출력 2. 식재료 추가 3. 식제료 삭제 4. 종료\n",
            "관리 메뉴를 선택하세요2\n",
            "식재료를 입력하세요망고\n",
            "['망고']\n",
            "1.보관 식재료 출력 2. 식재료 추가 3. 식제료 삭제 4. 종료\n",
            "관리 메뉴를 선택하세요2\n",
            "식재료를 입력하세요바나나\n",
            "['망고', '바나나']\n",
            "1.보관 식재료 출력 2. 식재료 추가 3. 식제료 삭제 4. 종료\n",
            "관리 메뉴를 선택하세요5\n"
          ]
        }
      ]
    },
    {
      "cell_type": "code",
      "source": [
        "# MY SQL\n",
        "\n",
        "# 데이터 가져오기\n",
        "# select, from, where\n",
        "\n",
        "# where절에 아무것도 안 쓰면 다 가져오고 & 조건 적으면 조건\n",
        "# 문장 끝에는 \" ; \" 세미콜론 사용\n",
        "\n",
        "# ex) select 고객번호, 주소, 전화번호  [가져올 내용]\n",
        "#     from 고객 [가져올 내용이 담긴 목록 이름]\n",
        "#     ; [문장 끝을 선언]\n",
        "\n",
        "# select 고객번호, 주소, 전화번호\n",
        "# from 고객\n",
        "# where 주소 like '송파%'  [주소에서 송파가 들어간 걸 모두 뽑아줌.]\n",
        "# ;\n"
      ],
      "metadata": {
        "id": "f1ywieTf6MOE"
      },
      "execution_count": null,
      "outputs": []
    },
    {
      "cell_type": "code",
      "source": [
        "# \"order by\"는 제일 마지막에 사용해야 함.\n",
        "# group by [데이터 쪼개고 합산]\n",
        "# order by [데이터 정렬]"
      ],
      "metadata": {
        "id": "LB2airImM_0f"
      },
      "execution_count": null,
      "outputs": []
    }
  ]
}