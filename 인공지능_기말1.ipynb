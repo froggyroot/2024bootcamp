{
  "nbformat": 4,
  "nbformat_minor": 0,
  "metadata": {
    "colab": {
      "provenance": [],
      "authorship_tag": "ABX9TyOP5OwWRlUaYrxQhO4mYUeN",
      "include_colab_link": true
    },
    "kernelspec": {
      "name": "python3",
      "display_name": "Python 3"
    },
    "language_info": {
      "name": "python"
    }
  },
  "cells": [
    {
      "cell_type": "markdown",
      "metadata": {
        "id": "view-in-github",
        "colab_type": "text"
      },
      "source": [
        "<a href=\"https://colab.research.google.com/github/froggyroot/2024bootcamp/blob/main/%EC%9D%B8%EA%B3%B5%EC%A7%80%EB%8A%A5_%EA%B8%B0%EB%A7%901.ipynb\" target=\"_parent\"><img src=\"https://colab.research.google.com/assets/colab-badge.svg\" alt=\"Open In Colab\"/></a>"
      ]
    },
    {
      "cell_type": "code",
      "execution_count": 58,
      "metadata": {
        "colab": {
          "base_uri": "https://localhost:8080/",
          "height": 206
        },
        "id": "5oj6YN60W2oW",
        "outputId": "4c402032-b39f-440f-a74d-fca29d85f33a"
      },
      "outputs": [
        {
          "output_type": "execute_result",
          "data": {
            "text/plain": [
              "    공원명     육지면적     탐방객수\n",
              "0   지리산  483.022  3308833\n",
              "1    경주  136.550  2887634\n",
              "2   계룡산   65.335  1817602\n",
              "3  한려해상  127.188  6439653\n",
              "4   설악산  398.237  3241484"
            ],
            "text/html": [
              "\n",
              "  <div id=\"df-c0760e87-4ed9-4028-861a-8ba5b752e552\" class=\"colab-df-container\">\n",
              "    <div>\n",
              "<style scoped>\n",
              "    .dataframe tbody tr th:only-of-type {\n",
              "        vertical-align: middle;\n",
              "    }\n",
              "\n",
              "    .dataframe tbody tr th {\n",
              "        vertical-align: top;\n",
              "    }\n",
              "\n",
              "    .dataframe thead th {\n",
              "        text-align: right;\n",
              "    }\n",
              "</style>\n",
              "<table border=\"1\" class=\"dataframe\">\n",
              "  <thead>\n",
              "    <tr style=\"text-align: right;\">\n",
              "      <th></th>\n",
              "      <th>공원명</th>\n",
              "      <th>육지면적</th>\n",
              "      <th>탐방객수</th>\n",
              "    </tr>\n",
              "  </thead>\n",
              "  <tbody>\n",
              "    <tr>\n",
              "      <th>0</th>\n",
              "      <td>지리산</td>\n",
              "      <td>483.022</td>\n",
              "      <td>3308833</td>\n",
              "    </tr>\n",
              "    <tr>\n",
              "      <th>1</th>\n",
              "      <td>경주</td>\n",
              "      <td>136.550</td>\n",
              "      <td>2887634</td>\n",
              "    </tr>\n",
              "    <tr>\n",
              "      <th>2</th>\n",
              "      <td>계룡산</td>\n",
              "      <td>65.335</td>\n",
              "      <td>1817602</td>\n",
              "    </tr>\n",
              "    <tr>\n",
              "      <th>3</th>\n",
              "      <td>한려해상</td>\n",
              "      <td>127.188</td>\n",
              "      <td>6439653</td>\n",
              "    </tr>\n",
              "    <tr>\n",
              "      <th>4</th>\n",
              "      <td>설악산</td>\n",
              "      <td>398.237</td>\n",
              "      <td>3241484</td>\n",
              "    </tr>\n",
              "  </tbody>\n",
              "</table>\n",
              "</div>\n",
              "    <div class=\"colab-df-buttons\">\n",
              "\n",
              "  <div class=\"colab-df-container\">\n",
              "    <button class=\"colab-df-convert\" onclick=\"convertToInteractive('df-c0760e87-4ed9-4028-861a-8ba5b752e552')\"\n",
              "            title=\"Convert this dataframe to an interactive table.\"\n",
              "            style=\"display:none;\">\n",
              "\n",
              "  <svg xmlns=\"http://www.w3.org/2000/svg\" height=\"24px\" viewBox=\"0 -960 960 960\">\n",
              "    <path d=\"M120-120v-720h720v720H120Zm60-500h600v-160H180v160Zm220 220h160v-160H400v160Zm0 220h160v-160H400v160ZM180-400h160v-160H180v160Zm440 0h160v-160H620v160ZM180-180h160v-160H180v160Zm440 0h160v-160H620v160Z\"/>\n",
              "  </svg>\n",
              "    </button>\n",
              "\n",
              "  <style>\n",
              "    .colab-df-container {\n",
              "      display:flex;\n",
              "      gap: 12px;\n",
              "    }\n",
              "\n",
              "    .colab-df-convert {\n",
              "      background-color: #E8F0FE;\n",
              "      border: none;\n",
              "      border-radius: 50%;\n",
              "      cursor: pointer;\n",
              "      display: none;\n",
              "      fill: #1967D2;\n",
              "      height: 32px;\n",
              "      padding: 0 0 0 0;\n",
              "      width: 32px;\n",
              "    }\n",
              "\n",
              "    .colab-df-convert:hover {\n",
              "      background-color: #E2EBFA;\n",
              "      box-shadow: 0px 1px 2px rgba(60, 64, 67, 0.3), 0px 1px 3px 1px rgba(60, 64, 67, 0.15);\n",
              "      fill: #174EA6;\n",
              "    }\n",
              "\n",
              "    .colab-df-buttons div {\n",
              "      margin-bottom: 4px;\n",
              "    }\n",
              "\n",
              "    [theme=dark] .colab-df-convert {\n",
              "      background-color: #3B4455;\n",
              "      fill: #D2E3FC;\n",
              "    }\n",
              "\n",
              "    [theme=dark] .colab-df-convert:hover {\n",
              "      background-color: #434B5C;\n",
              "      box-shadow: 0px 1px 3px 1px rgba(0, 0, 0, 0.15);\n",
              "      filter: drop-shadow(0px 1px 2px rgba(0, 0, 0, 0.3));\n",
              "      fill: #FFFFFF;\n",
              "    }\n",
              "  </style>\n",
              "\n",
              "    <script>\n",
              "      const buttonEl =\n",
              "        document.querySelector('#df-c0760e87-4ed9-4028-861a-8ba5b752e552 button.colab-df-convert');\n",
              "      buttonEl.style.display =\n",
              "        google.colab.kernel.accessAllowed ? 'block' : 'none';\n",
              "\n",
              "      async function convertToInteractive(key) {\n",
              "        const element = document.querySelector('#df-c0760e87-4ed9-4028-861a-8ba5b752e552');\n",
              "        const dataTable =\n",
              "          await google.colab.kernel.invokeFunction('convertToInteractive',\n",
              "                                                    [key], {});\n",
              "        if (!dataTable) return;\n",
              "\n",
              "        const docLinkHtml = 'Like what you see? Visit the ' +\n",
              "          '<a target=\"_blank\" href=https://colab.research.google.com/notebooks/data_table.ipynb>data table notebook</a>'\n",
              "          + ' to learn more about interactive tables.';\n",
              "        element.innerHTML = '';\n",
              "        dataTable['output_type'] = 'display_data';\n",
              "        await google.colab.output.renderOutput(dataTable, element);\n",
              "        const docLink = document.createElement('div');\n",
              "        docLink.innerHTML = docLinkHtml;\n",
              "        element.appendChild(docLink);\n",
              "      }\n",
              "    </script>\n",
              "  </div>\n",
              "\n",
              "\n",
              "<div id=\"df-25da7b67-0667-4487-a3bc-a82df0fd4bf5\">\n",
              "  <button class=\"colab-df-quickchart\" onclick=\"quickchart('df-25da7b67-0667-4487-a3bc-a82df0fd4bf5')\"\n",
              "            title=\"Suggest charts\"\n",
              "            style=\"display:none;\">\n",
              "\n",
              "<svg xmlns=\"http://www.w3.org/2000/svg\" height=\"24px\"viewBox=\"0 0 24 24\"\n",
              "     width=\"24px\">\n",
              "    <g>\n",
              "        <path d=\"M19 3H5c-1.1 0-2 .9-2 2v14c0 1.1.9 2 2 2h14c1.1 0 2-.9 2-2V5c0-1.1-.9-2-2-2zM9 17H7v-7h2v7zm4 0h-2V7h2v10zm4 0h-2v-4h2v4z\"/>\n",
              "    </g>\n",
              "</svg>\n",
              "  </button>\n",
              "\n",
              "<style>\n",
              "  .colab-df-quickchart {\n",
              "      --bg-color: #E8F0FE;\n",
              "      --fill-color: #1967D2;\n",
              "      --hover-bg-color: #E2EBFA;\n",
              "      --hover-fill-color: #174EA6;\n",
              "      --disabled-fill-color: #AAA;\n",
              "      --disabled-bg-color: #DDD;\n",
              "  }\n",
              "\n",
              "  [theme=dark] .colab-df-quickchart {\n",
              "      --bg-color: #3B4455;\n",
              "      --fill-color: #D2E3FC;\n",
              "      --hover-bg-color: #434B5C;\n",
              "      --hover-fill-color: #FFFFFF;\n",
              "      --disabled-bg-color: #3B4455;\n",
              "      --disabled-fill-color: #666;\n",
              "  }\n",
              "\n",
              "  .colab-df-quickchart {\n",
              "    background-color: var(--bg-color);\n",
              "    border: none;\n",
              "    border-radius: 50%;\n",
              "    cursor: pointer;\n",
              "    display: none;\n",
              "    fill: var(--fill-color);\n",
              "    height: 32px;\n",
              "    padding: 0;\n",
              "    width: 32px;\n",
              "  }\n",
              "\n",
              "  .colab-df-quickchart:hover {\n",
              "    background-color: var(--hover-bg-color);\n",
              "    box-shadow: 0 1px 2px rgba(60, 64, 67, 0.3), 0 1px 3px 1px rgba(60, 64, 67, 0.15);\n",
              "    fill: var(--button-hover-fill-color);\n",
              "  }\n",
              "\n",
              "  .colab-df-quickchart-complete:disabled,\n",
              "  .colab-df-quickchart-complete:disabled:hover {\n",
              "    background-color: var(--disabled-bg-color);\n",
              "    fill: var(--disabled-fill-color);\n",
              "    box-shadow: none;\n",
              "  }\n",
              "\n",
              "  .colab-df-spinner {\n",
              "    border: 2px solid var(--fill-color);\n",
              "    border-color: transparent;\n",
              "    border-bottom-color: var(--fill-color);\n",
              "    animation:\n",
              "      spin 1s steps(1) infinite;\n",
              "  }\n",
              "\n",
              "  @keyframes spin {\n",
              "    0% {\n",
              "      border-color: transparent;\n",
              "      border-bottom-color: var(--fill-color);\n",
              "      border-left-color: var(--fill-color);\n",
              "    }\n",
              "    20% {\n",
              "      border-color: transparent;\n",
              "      border-left-color: var(--fill-color);\n",
              "      border-top-color: var(--fill-color);\n",
              "    }\n",
              "    30% {\n",
              "      border-color: transparent;\n",
              "      border-left-color: var(--fill-color);\n",
              "      border-top-color: var(--fill-color);\n",
              "      border-right-color: var(--fill-color);\n",
              "    }\n",
              "    40% {\n",
              "      border-color: transparent;\n",
              "      border-right-color: var(--fill-color);\n",
              "      border-top-color: var(--fill-color);\n",
              "    }\n",
              "    60% {\n",
              "      border-color: transparent;\n",
              "      border-right-color: var(--fill-color);\n",
              "    }\n",
              "    80% {\n",
              "      border-color: transparent;\n",
              "      border-right-color: var(--fill-color);\n",
              "      border-bottom-color: var(--fill-color);\n",
              "    }\n",
              "    90% {\n",
              "      border-color: transparent;\n",
              "      border-bottom-color: var(--fill-color);\n",
              "    }\n",
              "  }\n",
              "</style>\n",
              "\n",
              "  <script>\n",
              "    async function quickchart(key) {\n",
              "      const quickchartButtonEl =\n",
              "        document.querySelector('#' + key + ' button');\n",
              "      quickchartButtonEl.disabled = true;  // To prevent multiple clicks.\n",
              "      quickchartButtonEl.classList.add('colab-df-spinner');\n",
              "      try {\n",
              "        const charts = await google.colab.kernel.invokeFunction(\n",
              "            'suggestCharts', [key], {});\n",
              "      } catch (error) {\n",
              "        console.error('Error during call to suggestCharts:', error);\n",
              "      }\n",
              "      quickchartButtonEl.classList.remove('colab-df-spinner');\n",
              "      quickchartButtonEl.classList.add('colab-df-quickchart-complete');\n",
              "    }\n",
              "    (() => {\n",
              "      let quickchartButtonEl =\n",
              "        document.querySelector('#df-25da7b67-0667-4487-a3bc-a82df0fd4bf5 button');\n",
              "      quickchartButtonEl.style.display =\n",
              "        google.colab.kernel.accessAllowed ? 'block' : 'none';\n",
              "    })();\n",
              "  </script>\n",
              "</div>\n",
              "\n",
              "    </div>\n",
              "  </div>\n"
            ],
            "application/vnd.google.colaboratory.intrinsic+json": {
              "type": "dataframe",
              "variable_name": "df",
              "summary": "{\n  \"name\": \"df\",\n  \"rows\": 22,\n  \"fields\": [\n    {\n      \"column\": \"\\uacf5\\uc6d0\\uba85\",\n      \"properties\": {\n        \"dtype\": \"string\",\n        \"num_unique_values\": 22,\n        \"samples\": [\n          \"\\uc9c0\\ub9ac\\uc0b0\",\n          \"\\ub2e4\\ub3c4\\ud574\\ud574\\uc0c1\",\n          \"\\uac00\\uc57c\\uc0b0\"\n        ],\n        \"semantic_type\": \"\",\n        \"description\": \"\"\n      }\n    },\n    {\n      \"column\": \"\\uc721\\uc9c0\\uba74\\uc801\",\n      \"properties\": {\n        \"dtype\": \"number\",\n        \"std\": 126.52377549352676,\n        \"min\": 24.223,\n        \"max\": 483.022,\n        \"num_unique_values\": 22,\n        \"samples\": [\n          483.022,\n          291.023,\n          76.256\n        ],\n        \"semantic_type\": \"\",\n        \"description\": \"\"\n      }\n    },\n    {\n      \"column\": \"\\ud0d0\\ubc29\\uac1d\\uc218\",\n      \"properties\": {\n        \"dtype\": \"number\",\n        \"std\": 1557228,\n        \"min\": 408930,\n        \"max\": 6439653,\n        \"num_unique_values\": 22,\n        \"samples\": [\n          3308833,\n          1987762,\n          672901\n        ],\n        \"semantic_type\": \"\",\n        \"description\": \"\"\n      }\n    }\n  ]\n}"
            }
          },
          "metadata": {},
          "execution_count": 58
        }
      ],
      "source": [
        "# 모듈 호출\n",
        "import pandas as pd\n",
        "import matplotlib.pyplot as plt\n",
        "import seaborn as sns\n",
        "import matplotlib.font_manager as fm\n",
        "import numpy as np\n",
        "import random as rd\n",
        "\n",
        "# 국립공원 기본통계 (출처: KOSIS 국가통계포털)\n",
        "df = pd.read_csv('NLPRK_STA.csv', encoding='cp949')\n",
        "df.head()"
      ]
    },
    {
      "cell_type": "code",
      "source": [
        "sns.set(style='whitegrid', font='KoPubDotum', font_scale=1.2) # Seaborn 설정"
      ],
      "metadata": {
        "id": "MFsryzTsX6PB"
      },
      "execution_count": 59,
      "outputs": []
    },
    {
      "cell_type": "code",
      "source": [
        "# 국립공원 육지면적, 탐방객수\n",
        "X = df.iloc[:, [1, 2]].values # shape=(22, 2)\n",
        "m=X.shape[0] # 집합 개수 (m=22)\n",
        "n=X.shape[1] # 특징 개수 (n=2)"
      ],
      "metadata": {
        "id": "g7IINdK4YSPv"
      },
      "execution_count": 60,
      "outputs": []
    },
    {
      "cell_type": "code",
      "source": [
        "plt.scatter(X[:,0],X[:,1],c='black',label='국립공원')\n",
        "plt.xlabel('육지면적 (㎢)')\n",
        "plt.ylabel('탐방객수 (명)')\n",
        "plt.legend()\n",
        "plt.title('국립공원')\n",
        "plt.show()"
      ],
      "metadata": {
        "colab": {
          "base_uri": "https://localhost:8080/",
          "height": 1000
        },
        "id": "-dDiHKKOYVGF",
        "outputId": "9d58b4f6-54a9-40da-a1f6-a7024cb41c4b"
      },
      "execution_count": 61,
      "outputs": [
        {
          "output_type": "stream",
          "name": "stderr",
          "text": [
            "WARNING:matplotlib.font_manager:findfont: Font family 'KoPubDotum' not found.\n",
            "WARNING:matplotlib.font_manager:findfont: Font family 'KoPubDotum' not found.\n",
            "WARNING:matplotlib.font_manager:findfont: Font family 'KoPubDotum' not found.\n",
            "WARNING:matplotlib.font_manager:findfont: Font family 'KoPubDotum' not found.\n",
            "WARNING:matplotlib.font_manager:findfont: Font family 'KoPubDotum' not found.\n",
            "WARNING:matplotlib.font_manager:findfont: Font family 'KoPubDotum' not found.\n",
            "WARNING:matplotlib.font_manager:findfont: Font family 'KoPubDotum' not found.\n",
            "WARNING:matplotlib.font_manager:findfont: Font family 'KoPubDotum' not found.\n",
            "/usr/local/lib/python3.10/dist-packages/IPython/core/pylabtools.py:151: UserWarning: Glyph 50977 (\\N{HANGUL SYLLABLE YUG}) missing from current font.\n",
            "  fig.canvas.print_figure(bytes_io, **kw)\n",
            "/usr/local/lib/python3.10/dist-packages/IPython/core/pylabtools.py:151: UserWarning: Glyph 51648 (\\N{HANGUL SYLLABLE JI}) missing from current font.\n",
            "  fig.canvas.print_figure(bytes_io, **kw)\n",
            "/usr/local/lib/python3.10/dist-packages/IPython/core/pylabtools.py:151: UserWarning: Glyph 47732 (\\N{HANGUL SYLLABLE MYEON}) missing from current font.\n",
            "  fig.canvas.print_figure(bytes_io, **kw)\n",
            "/usr/local/lib/python3.10/dist-packages/IPython/core/pylabtools.py:151: UserWarning: Glyph 51201 (\\N{HANGUL SYLLABLE JEOG}) missing from current font.\n",
            "  fig.canvas.print_figure(bytes_io, **kw)\n",
            "/usr/local/lib/python3.10/dist-packages/IPython/core/pylabtools.py:151: UserWarning: Glyph 13218 (\\N{SQUARE KM SQUARED}) missing from current font.\n",
            "  fig.canvas.print_figure(bytes_io, **kw)\n",
            "WARNING:matplotlib.font_manager:findfont: Font family 'KoPubDotum' not found.\n",
            "WARNING:matplotlib.font_manager:findfont: Font family 'KoPubDotum' not found.\n",
            "WARNING:matplotlib.font_manager:findfont: Font family 'KoPubDotum' not found.\n",
            "WARNING:matplotlib.font_manager:findfont: Font family 'KoPubDotum' not found.\n",
            "WARNING:matplotlib.font_manager:findfont: Font family 'KoPubDotum' not found.\n",
            "WARNING:matplotlib.font_manager:findfont: Font family 'KoPubDotum' not found.\n",
            "WARNING:matplotlib.font_manager:findfont: Font family 'KoPubDotum' not found.\n",
            "WARNING:matplotlib.font_manager:findfont: Font family 'KoPubDotum' not found.\n",
            "/usr/local/lib/python3.10/dist-packages/IPython/core/pylabtools.py:151: UserWarning: Glyph 53456 (\\N{HANGUL SYLLABLE TAM}) missing from current font.\n",
            "  fig.canvas.print_figure(bytes_io, **kw)\n",
            "/usr/local/lib/python3.10/dist-packages/IPython/core/pylabtools.py:151: UserWarning: Glyph 48169 (\\N{HANGUL SYLLABLE BANG}) missing from current font.\n",
            "  fig.canvas.print_figure(bytes_io, **kw)\n",
            "/usr/local/lib/python3.10/dist-packages/IPython/core/pylabtools.py:151: UserWarning: Glyph 44061 (\\N{HANGUL SYLLABLE GAEG}) missing from current font.\n",
            "  fig.canvas.print_figure(bytes_io, **kw)\n",
            "/usr/local/lib/python3.10/dist-packages/IPython/core/pylabtools.py:151: UserWarning: Glyph 49688 (\\N{HANGUL SYLLABLE SU}) missing from current font.\n",
            "  fig.canvas.print_figure(bytes_io, **kw)\n",
            "/usr/local/lib/python3.10/dist-packages/IPython/core/pylabtools.py:151: UserWarning: Glyph 47749 (\\N{HANGUL SYLLABLE MYEONG}) missing from current font.\n",
            "  fig.canvas.print_figure(bytes_io, **kw)\n",
            "WARNING:matplotlib.font_manager:findfont: Font family 'KoPubDotum' not found.\n",
            "/usr/local/lib/python3.10/dist-packages/IPython/core/pylabtools.py:151: UserWarning: Glyph 44397 (\\N{HANGUL SYLLABLE GUG}) missing from current font.\n",
            "  fig.canvas.print_figure(bytes_io, **kw)\n",
            "/usr/local/lib/python3.10/dist-packages/IPython/core/pylabtools.py:151: UserWarning: Glyph 47549 (\\N{HANGUL SYLLABLE RIB}) missing from current font.\n",
            "  fig.canvas.print_figure(bytes_io, **kw)\n",
            "/usr/local/lib/python3.10/dist-packages/IPython/core/pylabtools.py:151: UserWarning: Glyph 44277 (\\N{HANGUL SYLLABLE GONG}) missing from current font.\n",
            "  fig.canvas.print_figure(bytes_io, **kw)\n",
            "/usr/local/lib/python3.10/dist-packages/IPython/core/pylabtools.py:151: UserWarning: Glyph 50896 (\\N{HANGUL SYLLABLE WEON}) missing from current font.\n",
            "  fig.canvas.print_figure(bytes_io, **kw)\n",
            "WARNING:matplotlib.font_manager:findfont: Font family 'KoPubDotum' not found.\n",
            "WARNING:matplotlib.font_manager:findfont: Font family 'KoPubDotum' not found.\n",
            "WARNING:matplotlib.font_manager:findfont: Font family 'KoPubDotum' not found.\n",
            "WARNING:matplotlib.font_manager:findfont: Font family 'KoPubDotum' not found.\n",
            "WARNING:matplotlib.font_manager:findfont: Font family 'KoPubDotum' not found.\n",
            "WARNING:matplotlib.font_manager:findfont: Font family 'KoPubDotum' not found.\n",
            "WARNING:matplotlib.font_manager:findfont: Font family 'KoPubDotum' not found.\n",
            "WARNING:matplotlib.font_manager:findfont: Font family 'KoPubDotum' not found.\n",
            "WARNING:matplotlib.font_manager:findfont: Font family 'KoPubDotum' not found.\n",
            "WARNING:matplotlib.font_manager:findfont: Font family 'KoPubDotum' not found.\n",
            "WARNING:matplotlib.font_manager:findfont: Font family 'KoPubDotum' not found.\n",
            "WARNING:matplotlib.font_manager:findfont: Font family 'KoPubDotum' not found.\n",
            "WARNING:matplotlib.font_manager:findfont: Font family 'KoPubDotum' not found.\n",
            "WARNING:matplotlib.font_manager:findfont: Font family 'KoPubDotum' not found.\n",
            "WARNING:matplotlib.font_manager:findfont: Font family 'KoPubDotum' not found.\n",
            "WARNING:matplotlib.font_manager:findfont: Font family 'KoPubDotum' not found.\n",
            "WARNING:matplotlib.font_manager:findfont: Font family 'KoPubDotum' not found.\n",
            "WARNING:matplotlib.font_manager:findfont: Font family 'KoPubDotum' not found.\n",
            "WARNING:matplotlib.font_manager:findfont: Font family 'KoPubDotum' not found.\n",
            "WARNING:matplotlib.font_manager:findfont: Font family 'KoPubDotum' not found.\n",
            "WARNING:matplotlib.font_manager:findfont: Font family 'KoPubDotum' not found.\n",
            "WARNING:matplotlib.font_manager:findfont: Font family 'KoPubDotum' not found.\n",
            "WARNING:matplotlib.font_manager:findfont: Font family 'KoPubDotum' not found.\n",
            "WARNING:matplotlib.font_manager:findfont: Font family 'KoPubDotum' not found.\n",
            "WARNING:matplotlib.font_manager:findfont: Font family 'KoPubDotum' not found.\n",
            "WARNING:matplotlib.font_manager:findfont: Font family 'KoPubDotum' not found.\n",
            "WARNING:matplotlib.font_manager:findfont: Font family 'KoPubDotum' not found.\n",
            "WARNING:matplotlib.font_manager:findfont: Font family 'KoPubDotum' not found.\n",
            "WARNING:matplotlib.font_manager:findfont: Font family 'KoPubDotum' not found.\n",
            "WARNING:matplotlib.font_manager:findfont: Font family 'KoPubDotum' not found.\n",
            "WARNING:matplotlib.font_manager:findfont: Font family 'KoPubDotum' not found.\n",
            "WARNING:matplotlib.font_manager:findfont: Font family 'KoPubDotum' not found.\n",
            "WARNING:matplotlib.font_manager:findfont: Font family 'KoPubDotum' not found.\n",
            "WARNING:matplotlib.font_manager:findfont: Font family 'KoPubDotum' not found.\n",
            "WARNING:matplotlib.font_manager:findfont: Font family 'KoPubDotum' not found.\n",
            "WARNING:matplotlib.font_manager:findfont: Font family 'KoPubDotum' not found.\n",
            "WARNING:matplotlib.font_manager:findfont: Font family 'KoPubDotum' not found.\n",
            "WARNING:matplotlib.font_manager:findfont: Font family 'KoPubDotum' not found.\n",
            "WARNING:matplotlib.font_manager:findfont: Font family 'KoPubDotum' not found.\n",
            "WARNING:matplotlib.font_manager:findfont: Font family 'KoPubDotum' not found.\n",
            "WARNING:matplotlib.font_manager:findfont: Font family 'KoPubDotum' not found.\n",
            "WARNING:matplotlib.font_manager:findfont: Font family 'KoPubDotum' not found.\n",
            "WARNING:matplotlib.font_manager:findfont: Font family 'KoPubDotum' not found.\n",
            "WARNING:matplotlib.font_manager:findfont: Font family 'KoPubDotum' not found.\n",
            "WARNING:matplotlib.font_manager:findfont: Font family 'KoPubDotum' not found.\n",
            "WARNING:matplotlib.font_manager:findfont: Font family 'KoPubDotum' not found.\n",
            "WARNING:matplotlib.font_manager:findfont: Font family 'KoPubDotum' not found.\n",
            "WARNING:matplotlib.font_manager:findfont: Font family 'KoPubDotum' not found.\n"
          ]
        },
        {
          "output_type": "display_data",
          "data": {
            "text/plain": [
              "<Figure size 640x480 with 1 Axes>"
            ],
            "image/png": "[encoded data removed]"
          },
          "metadata": {}
        }
      ]
    },
    {
      "cell_type": "code",
      "source": [
        "K=3 # 클러스터 개수\n",
        "n_iter=100 # 반복 횟수\n",
        "Centroids=np.array([]).reshape(n,0) # 클러스터 중심 초기화\n",
        "Centroids # shape=(2, 0)"
      ],
      "metadata": {
        "colab": {
          "base_uri": "https://localhost:8080/"
        },
        "id": "lPxKimPIYbIW",
        "outputId": "a3b31bdd-fa19-45f1-dcce-4b8d9c177b32"
      },
      "execution_count": 70,
      "outputs": [
        {
          "output_type": "execute_result",
          "data": {
            "text/plain": [
              "array([], shape=(2, 0), dtype=float64)"
            ]
          },
          "metadata": {},
          "execution_count": 70
        }
      ]
    },
    {
      "cell_type": "code",
      "source": [
        "for i in range(K): # 0, 1, 2\n",
        "    rand=rd.randint(0,m-1) # 0과 21 사이 난수 생성\n",
        "    Centroids=np.c_[Centroids,X[rand]] # 클러스터 중심(열) 추가\n",
        "Centroids # K개 클러스터 중심 초기값. shape=(2, 3)"
      ],
      "metadata": {
        "colab": {
          "base_uri": "https://localhost:8080/"
        },
        "id": "3wVzuktlZim7",
        "outputId": "534f8cba-3f0c-4df3-ce70-55fcc32c5869"
      },
      "execution_count": 71,
      "outputs": [
        {
          "output_type": "execute_result",
          "data": {
            "text/plain": [
              "array([[7.005200e+01, 1.367070e+02, 6.533500e+01],\n",
              "       [6.800680e+05, 1.579089e+06, 1.817602e+06]])"
            ]
          },
          "metadata": {},
          "execution_count": 71
        }
      ]
    },
    {
      "cell_type": "code",
      "source": [
        "Output={} # 출력값 초기화(딕셔너리)"
      ],
      "metadata": {
        "id": "uz-w_0fcZ1I1"
      },
      "execution_count": 72,
      "outputs": []
    },
    {
      "cell_type": "code",
      "source": [
        "# 유클리드 거리 초기화\n",
        "EuclidianDistance=np.array([]).reshape(m,0)\n",
        "EuclidianDistance # shape=(22, 0)"
      ],
      "metadata": {
        "colab": {
          "base_uri": "https://localhost:8080/"
        },
        "id": "aWRSHhocZnAm",
        "outputId": "82eb8dfe-cdbd-4038-e310-c3fd9d746078"
      },
      "execution_count": 73,
      "outputs": [
        {
          "output_type": "execute_result",
          "data": {
            "text/plain": [
              "array([], shape=(22, 0), dtype=float64)"
            ]
          },
          "metadata": {},
          "execution_count": 73
        }
      ]
    },
    {
      "cell_type": "code",
      "source": [
        "Centroids[:,0] # shape=(2,)"
      ],
      "metadata": {
        "colab": {
          "base_uri": "https://localhost:8080/"
        },
        "id": "CByLW1WtZtDT",
        "outputId": "f699bd21-1d76-4248-d8f3-5a362b2e687d"
      },
      "execution_count": 74,
      "outputs": [
        {
          "output_type": "execute_result",
          "data": {
            "text/plain": [
              "array([7.00520e+01, 6.80068e+05])"
            ]
          },
          "metadata": {},
          "execution_count": 74
        }
      ]
    },
    {
      "cell_type": "code",
      "source": [
        "# 넘파이 브로드캐스트(broadcast): 형상이 다른 배열끼리도 계산 가능\n",
        "# (22, 2) 행렬 A에서 (2,) 벡터 값을 차감하면, 벡터 값은 (22, 2) 행렬로 확대된 후 연산\n",
        "tempDist = np.sum((X-Centroids[:,0])**2,axis=1)\n",
        "tempDist # shape=(22,)"
      ],
      "metadata": {
        "colab": {
          "base_uri": "https://localhost:8080/"
        },
        "id": "2ftG7xorZ3zk",
        "outputId": "a4a146a1-abe9-437d-bc63-de9bf16065e5"
      },
      "execution_count": 75,
      "outputs": [
        {
          "output_type": "execute_result",
          "data": {
            "text/plain": [
              "array([6.91040560e+12, 4.87334765e+12, 1.29398360e+12, 3.31728194e+13,\n",
              "       6.56085203e+12, 3.18983268e+11, 4.48376459e+10, 1.60921403e+12,\n",
              "       5.13659275e+07, 6.74431878e+11, 5.17034406e+11, 2.25620251e+11,\n",
              "       1.36830451e+11, 1.71006365e+12, 2.34105016e+13, 3.39890115e+09,\n",
              "       1.12040873e+11, 2.64111774e+11, 8.08238763e+11, 7.35158152e+10,\n",
              "       6.06987189e+12, 0.00000000e+00])"
            ]
          },
          "metadata": {},
          "execution_count": 75
        }
      ]
    },
    {
      "cell_type": "code",
      "source": [
        "np.c_[EuclidianDistance,tempDist] # (22, 0) 행렬에 (22,) 옆으로 붙이기"
      ],
      "metadata": {
        "colab": {
          "base_uri": "https://localhost:8080/"
        },
        "id": "vIEFD3eMZ8LK",
        "outputId": "a10fde06-0c77-4e0f-ca39-cdca25e28e60"
      },
      "execution_count": 76,
      "outputs": [
        {
          "output_type": "execute_result",
          "data": {
            "text/plain": [
              "array([[6.91040560e+12],\n",
              "       [4.87334765e+12],\n",
              "       [1.29398360e+12],\n",
              "       [3.31728194e+13],\n",
              "       [6.56085203e+12],\n",
              "       [3.18983268e+11],\n",
              "       [4.48376459e+10],\n",
              "       [1.60921403e+12],\n",
              "       [5.13659275e+07],\n",
              "       [6.74431878e+11],\n",
              "       [5.17034406e+11],\n",
              "       [2.25620251e+11],\n",
              "       [1.36830451e+11],\n",
              "       [1.71006365e+12],\n",
              "       [2.34105016e+13],\n",
              "       [3.39890115e+09],\n",
              "       [1.12040873e+11],\n",
              "       [2.64111774e+11],\n",
              "       [8.08238763e+11],\n",
              "       [7.35158152e+10],\n",
              "       [6.06987189e+12],\n",
              "       [0.00000000e+00]])"
            ]
          },
          "metadata": {},
          "execution_count": 76
        }
      ]
    },
    {
      "cell_type": "code",
      "source": [
        "for k in range(K): # 0, 1, 2\n",
        "    tempDist=np.sum((X-Centroids[:,k])**2,axis=1)\n",
        "    EuclidianDistance=np.c_[EuclidianDistance,tempDist]\n",
        "EuclidianDistance # shape=(22, 3)"
      ],
      "metadata": {
        "colab": {
          "base_uri": "https://localhost:8080/"
        },
        "id": "afFN5CJ3Z-oD",
        "outputId": "3e1ff862-f22a-4c61-bca3-b4530abb2010"
      },
      "execution_count": 77,
      "outputs": [
        {
          "output_type": "execute_result",
          "data": {
            "text/plain": [
              "array([[6.91040560e+12, 2.99201443e+12, 2.22377007e+12],\n",
              "       [4.87334765e+12, 1.71229002e+12, 1.14496849e+12],\n",
              "       [1.29398360e+12, 5.68884563e+10, 0.00000000e+00],\n",
              "       [3.31728194e+13, 2.36250824e+13, 2.13633555e+13],\n",
              "       [6.56085203e+12, 2.76355720e+12, 2.02744006e+12],\n",
              "       [3.18983268e+11, 1.11713054e+11, 3.28040315e+11],\n",
              "       [4.48376459e+10, 4.72342802e+11, 8.57077874e+11],\n",
              "       [1.60921403e+12, 1.36550207e+11, 1.71646684e+10],\n",
              "       [5.13659275e+07, 8.21176695e+11, 1.31034038e+12],\n",
              "       [6.74431878e+11, 6.05020369e+09, 1.00043187e+11],\n",
              "       [5.17034406e+11, 3.23892369e+10, 1.75128089e+11],\n",
              "       [2.25620251e+11, 1.79798050e+11, 4.38957928e+11],\n",
              "       [1.36830451e+11, 2.79962696e+11, 5.89252748e+11],\n",
              "       [1.71006365e+12, 1.67013645e+11, 2.89544765e+10],\n",
              "       [2.34105016e+13, 1.55190221e+13, 1.36967052e+13],\n",
              "       [3.39890115e+09, 7.06811801e+11, 1.16474604e+12],\n",
              "       [1.12040873e+11, 3.18429998e+11, 6.44502340e+11],\n",
              "       [2.64111774e+11, 1.48304355e+11, 3.88896981e+11],\n",
              "       [8.08238763e+11, 0.00000000e+00, 5.68884563e+10],\n",
              "       [7.35158152e+10, 1.36927209e+12, 1.98435680e+12],\n",
              "       [6.06987189e+12, 2.44825480e+12, 1.75874544e+12],\n",
              "       [0.00000000e+00, 8.08238763e+11, 1.29398360e+12]])"
            ]
          },
          "metadata": {},
          "execution_count": 77
        }
      ]
    },
    {
      "cell_type": "code",
      "source": [
        "# 유클리드 거리가 최소가 되는 색인\n",
        "np.argmin(EuclidianDistance,axis=1)"
      ],
      "metadata": {
        "colab": {
          "base_uri": "https://localhost:8080/"
        },
        "id": "ZYXAzmb5aAvt",
        "outputId": "75f037ae-486d-4385-e7e3-82cac240f066"
      },
      "execution_count": 78,
      "outputs": [
        {
          "output_type": "execute_result",
          "data": {
            "text/plain": [
              "array([2, 2, 2, 2, 2, 1, 0, 2, 0, 1, 1, 1, 0, 2, 2, 0, 0, 1, 1, 0, 2, 0])"
            ]
          },
          "metadata": {},
          "execution_count": 78
        }
      ]
    },
    {
      "cell_type": "code",
      "source": [
        "# K 클러스터 저장\n",
        "C=np.argmin(EuclidianDistance,axis=1)+1\n",
        "C # shape=(22,)"
      ],
      "metadata": {
        "colab": {
          "base_uri": "https://localhost:8080/"
        },
        "id": "ALufetTFaDMq",
        "outputId": "e20fa060-18fa-49f0-a30e-91686e44bacb"
      },
      "execution_count": 79,
      "outputs": [
        {
          "output_type": "execute_result",
          "data": {
            "text/plain": [
              "array([3, 3, 3, 3, 3, 2, 1, 3, 1, 2, 2, 2, 1, 3, 3, 1, 1, 2, 2, 1, 3, 1])"
            ]
          },
          "metadata": {},
          "execution_count": 79
        }
      ]
    },
    {
      "cell_type": "code",
      "source": [
        "Y={} # 출력값 임시 딕셔너리\n",
        "\n",
        "for k in range(K): # 0, 1, 2\n",
        "    Y[k+1]=np.array([]).reshape(2,0) # 특징 개수\n",
        "Y"
      ],
      "metadata": {
        "colab": {
          "base_uri": "https://localhost:8080/"
        },
        "id": "r_x52k2maGCW",
        "outputId": "df66185e-f320-4e88-9792-64ef63f79ddd"
      },
      "execution_count": 80,
      "outputs": [
        {
          "output_type": "execute_result",
          "data": {
            "text/plain": [
              "{1: array([], shape=(2, 0), dtype=float64),\n",
              " 2: array([], shape=(2, 0), dtype=float64),\n",
              " 3: array([], shape=(2, 0), dtype=float64)}"
            ]
          },
          "metadata": {},
          "execution_count": 80
        }
      ]
    },
    {
      "cell_type": "code",
      "source": [
        "# 출력값 임시 딕셔너리 갱신\n",
        "Y[C[0]]=np.c_[Y[C[0]],X[0]] # C[0] 키 값에 대한 재귀적 갱신\n",
        "Y[C[0]]"
      ],
      "metadata": {
        "colab": {
          "base_uri": "https://localhost:8080/"
        },
        "id": "dH-e9L-EaJKb",
        "outputId": "40d3ea70-1949-4c19-98c9-2e9feede98e8"
      },
      "execution_count": 81,
      "outputs": [
        {
          "output_type": "execute_result",
          "data": {
            "text/plain": [
              "array([[4.830220e+02],\n",
              "       [3.308833e+06]])"
            ]
          },
          "metadata": {},
          "execution_count": 81
        }
      ]
    },
    {
      "cell_type": "code",
      "source": [
        "# 출력값 임시 딕셔너리: 키 값에 대한 재귀적 갱신\n",
        "for i in range(m): # m=22\n",
        "    Y[C[i]]=np.c_[Y[C[i]],X[i]]\n",
        "Y"
      ],
      "metadata": {
        "colab": {
          "base_uri": "https://localhost:8080/"
        },
        "id": "DebEEl83aN8W",
        "outputId": "5606dd87-6960-4e90-9e6a-7aa5dc04be26"
      },
      "execution_count": 82,
      "outputs": [
        {
          "output_type": "execute_result",
          "data": {
            "text/plain": [
              "{1: array([[1.533320e+02, 7.625600e+01, 2.422300e+01, 1.756680e+02,\n",
              "         2.875710e+02, 5.622000e+01, 7.005200e+01],\n",
              "        [8.918170e+05, 6.729010e+05, 1.049974e+06, 7.383680e+05,\n",
              "         1.014793e+06, 4.089300e+05, 6.800680e+05]]),\n",
              " 2: array([[2.747660e+02, 2.294300e+02, 3.263480e+02, 1.055950e+02,\n",
              "         3.220110e+02, 1.367070e+02],\n",
              "        [1.244854e+06, 1.501306e+06, 1.399119e+06, 1.155063e+06,\n",
              "         1.193986e+06, 1.579089e+06]]),\n",
              " 3: array([[4.830220e+02, 4.830220e+02, 1.365500e+02, 6.533500e+01,\n",
              "         1.271880e+02, 3.982370e+02, 8.070800e+01, 2.910230e+02,\n",
              "         7.692200e+01, 7.542500e+01],\n",
              "        [3.308833e+06, 3.308833e+06, 2.887634e+06, 1.817602e+06,\n",
              "         6.439653e+06, 3.241484e+06, 1.948616e+06, 1.987762e+06,\n",
              "         5.518508e+06, 3.143779e+06]])}"
            ]
          },
          "metadata": {},
          "execution_count": 82
        }
      ]
    },
    {
      "cell_type": "code",
      "source": [
        "Y[1] # shape=(10, 2)"
      ],
      "metadata": {
        "colab": {
          "base_uri": "https://localhost:8080/"
        },
        "id": "vivdprEgaP6J",
        "outputId": "c1e86e03-7214-44f8-b919-a7ad4b5161bf"
      },
      "execution_count": 83,
      "outputs": [
        {
          "output_type": "execute_result",
          "data": {
            "text/plain": [
              "array([[1.533320e+02, 7.625600e+01, 2.422300e+01, 1.756680e+02,\n",
              "        2.875710e+02, 5.622000e+01, 7.005200e+01],\n",
              "       [8.918170e+05, 6.729010e+05, 1.049974e+06, 7.383680e+05,\n",
              "        1.014793e+06, 4.089300e+05, 6.800680e+05]])"
            ]
          },
          "metadata": {},
          "execution_count": 83
        }
      ]
    },
    {
      "cell_type": "code",
      "source": [
        "Y[1].T # 전치행렬: shape=(2, 10)"
      ],
      "metadata": {
        "colab": {
          "base_uri": "https://localhost:8080/"
        },
        "id": "ddwVBr8xaUDT",
        "outputId": "468db053-f13e-4600-e298-f750a81dcdb0"
      },
      "execution_count": 84,
      "outputs": [
        {
          "output_type": "execute_result",
          "data": {
            "text/plain": [
              "array([[1.533320e+02, 8.918170e+05],\n",
              "       [7.625600e+01, 6.729010e+05],\n",
              "       [2.422300e+01, 1.049974e+06],\n",
              "       [1.756680e+02, 7.383680e+05],\n",
              "       [2.875710e+02, 1.014793e+06],\n",
              "       [5.622000e+01, 4.089300e+05],\n",
              "       [7.005200e+01, 6.800680e+05]])"
            ]
          },
          "metadata": {},
          "execution_count": 84
        }
      ]
    },
    {
      "cell_type": "code",
      "source": [
        "# 출력값 임시 디렉터리: 전치행렬\n",
        "for k in range(K): # 0, 1, 2\n",
        "    Y[k+1]=Y[k+1].T\n",
        "Y"
      ],
      "metadata": {
        "colab": {
          "base_uri": "https://localhost:8080/"
        },
        "id": "-ny_rogGaU10",
        "outputId": "98c93f7f-4ad6-49c5-869d-49154d686432"
      },
      "execution_count": 85,
      "outputs": [
        {
          "output_type": "execute_result",
          "data": {
            "text/plain": [
              "{1: array([[1.533320e+02, 8.918170e+05],\n",
              "        [7.625600e+01, 6.729010e+05],\n",
              "        [2.422300e+01, 1.049974e+06],\n",
              "        [1.756680e+02, 7.383680e+05],\n",
              "        [2.875710e+02, 1.014793e+06],\n",
              "        [5.622000e+01, 4.089300e+05],\n",
              "        [7.005200e+01, 6.800680e+05]]),\n",
              " 2: array([[2.747660e+02, 1.244854e+06],\n",
              "        [2.294300e+02, 1.501306e+06],\n",
              "        [3.263480e+02, 1.399119e+06],\n",
              "        [1.055950e+02, 1.155063e+06],\n",
              "        [3.220110e+02, 1.193986e+06],\n",
              "        [1.367070e+02, 1.579089e+06]]),\n",
              " 3: array([[4.830220e+02, 3.308833e+06],\n",
              "        [4.830220e+02, 3.308833e+06],\n",
              "        [1.365500e+02, 2.887634e+06],\n",
              "        [6.533500e+01, 1.817602e+06],\n",
              "        [1.271880e+02, 6.439653e+06],\n",
              "        [3.982370e+02, 3.241484e+06],\n",
              "        [8.070800e+01, 1.948616e+06],\n",
              "        [2.910230e+02, 1.987762e+06],\n",
              "        [7.692200e+01, 5.518508e+06],\n",
              "        [7.542500e+01, 3.143779e+06]])}"
            ]
          },
          "metadata": {},
          "execution_count": 85
        }
      ]
    },
    {
      "cell_type": "code",
      "source": [
        "for k in range(K): # 0, 1, 2\n",
        "     Centroids[:,k]=np.mean(Y[k+1],axis=0)\n",
        "Centroids"
      ],
      "metadata": {
        "colab": {
          "base_uri": "https://localhost:8080/"
        },
        "id": "0dRjvcUbaWzB",
        "outputId": "45926779-e195-4ef1-bda7-12162f42e7cb"
      },
      "execution_count": 86,
      "outputs": [
        {
          "output_type": "execute_result",
          "data": {
            "text/plain": [
              "array([[1.20474571e+02, 2.32476167e+02, 2.21743200e+02],\n",
              "       [7.79550143e+05, 1.34556950e+06, 3.36027040e+06]])"
            ]
          },
          "metadata": {},
          "execution_count": 86
        }
      ]
    },
    {
      "cell_type": "code",
      "source": [
        "for i in range(n_iter): # n_iter 반복 횟수\n",
        "    # 유클리드 거리가 최소가 되는 K 클러스터 할당\n",
        "    EuclidianDistance=np.array([]).reshape(m,0)\n",
        "    for k in range(K):\n",
        "        tempDist=np.sum((X-Centroids[:,k])**2,axis=1) # shape=(22,)\n",
        "        EuclidianDistance=np.c_[EuclidianDistance,tempDist] # shape=(22, 3)\n",
        "    C=np.argmin(EuclidianDistance,axis=1)+1 # shape=(22,)\n",
        "    # K 클러스터 갱신\n",
        "    Y={}\n",
        "    for k in range(K):\n",
        "        Y[k+1]=np.array([]).reshape(2,0) # Y 딕셔너리 키, 값 할당\n",
        "    for i in range(m):\n",
        "        Y[C[i]]=np.c_[Y[C[i]],X[i]] # Y 딕셔너리 키(K클러스터), 값(육지면적, 탐방객수) 할당\n",
        "    for k in range(K):\n",
        "        Y[k+1]=Y[k+1].T # 전치행렬\n",
        "    for k in range(K):\n",
        "        Centroids[:,k]=np.mean(Y[k+1],axis=0) # K 클러스터 중심 갱신\n",
        "    Output=Y"
      ],
      "metadata": {
        "id": "8sIGemCMaaFU"
      },
      "execution_count": 87,
      "outputs": []
    },
    {
      "cell_type": "code",
      "source": [
        "# K-평균 클러스터링 결과 가시화\n",
        "color=['red','blue','green']\n",
        "labels=['cluster1','cluster2','cluster3']\n",
        "for k in range(K):\n",
        "    plt.scatter(Output[k+1][:,0],Output[k+1][:,1],c=color[k],label=labels[k])\n",
        "plt.scatter(Centroids[0,:],Centroids[1,:],s=300,c='yellow',label='Centroids')\n",
        "plt.xlabel('육지면적 (㎢)')\n",
        "plt.ylabel('탐방객수 (명)')\n",
        "plt.legend()\n",
        "plt.show()\n"
      ],
      "metadata": {
        "colab": {
          "base_uri": "https://localhost:8080/",
          "height": 1000
        },
        "id": "YHWfzBuQabZV",
        "outputId": "d138f4eb-0217-4865-8d3d-4ccfdf91bcb3"
      },
      "execution_count": 88,
      "outputs": [
        {
          "output_type": "stream",
          "name": "stderr",
          "text": [
            "WARNING:matplotlib.font_manager:findfont: Font family 'KoPubDotum' not found.\n",
            "WARNING:matplotlib.font_manager:findfont: Font family 'KoPubDotum' not found.\n",
            "WARNING:matplotlib.font_manager:findfont: Font family 'KoPubDotum' not found.\n",
            "WARNING:matplotlib.font_manager:findfont: Font family 'KoPubDotum' not found.\n",
            "WARNING:matplotlib.font_manager:findfont: Font family 'KoPubDotum' not found.\n",
            "WARNING:matplotlib.font_manager:findfont: Font family 'KoPubDotum' not found.\n",
            "WARNING:matplotlib.font_manager:findfont: Font family 'KoPubDotum' not found.\n",
            "WARNING:matplotlib.font_manager:findfont: Font family 'KoPubDotum' not found.\n",
            "WARNING:matplotlib.font_manager:findfont: Font family 'KoPubDotum' not found.\n",
            "WARNING:matplotlib.font_manager:findfont: Font family 'KoPubDotum' not found.\n",
            "WARNING:matplotlib.font_manager:findfont: Font family 'KoPubDotum' not found.\n",
            "WARNING:matplotlib.font_manager:findfont: Font family 'KoPubDotum' not found.\n",
            "WARNING:matplotlib.font_manager:findfont: Font family 'KoPubDotum' not found.\n",
            "WARNING:matplotlib.font_manager:findfont: Font family 'KoPubDotum' not found.\n",
            "WARNING:matplotlib.font_manager:findfont: Font family 'KoPubDotum' not found.\n",
            "WARNING:matplotlib.font_manager:findfont: Font family 'KoPubDotum' not found.\n",
            "WARNING:matplotlib.font_manager:findfont: Font family 'KoPubDotum' not found.\n",
            "WARNING:matplotlib.font_manager:findfont: Font family 'KoPubDotum' not found.\n",
            "WARNING:matplotlib.font_manager:findfont: Font family 'KoPubDotum' not found.\n",
            "WARNING:matplotlib.font_manager:findfont: Font family 'KoPubDotum' not found.\n",
            "WARNING:matplotlib.font_manager:findfont: Font family 'KoPubDotum' not found.\n",
            "WARNING:matplotlib.font_manager:findfont: Font family 'KoPubDotum' not found.\n",
            "WARNING:matplotlib.font_manager:findfont: Font family 'KoPubDotum' not found.\n",
            "WARNING:matplotlib.font_manager:findfont: Font family 'KoPubDotum' not found.\n",
            "WARNING:matplotlib.font_manager:findfont: Font family 'KoPubDotum' not found.\n",
            "WARNING:matplotlib.font_manager:findfont: Font family 'KoPubDotum' not found.\n",
            "WARNING:matplotlib.font_manager:findfont: Font family 'KoPubDotum' not found.\n",
            "WARNING:matplotlib.font_manager:findfont: Font family 'KoPubDotum' not found.\n",
            "WARNING:matplotlib.font_manager:findfont: Font family 'KoPubDotum' not found.\n",
            "WARNING:matplotlib.font_manager:findfont: Font family 'KoPubDotum' not found.\n",
            "WARNING:matplotlib.font_manager:findfont: Font family 'KoPubDotum' not found.\n",
            "WARNING:matplotlib.font_manager:findfont: Font family 'KoPubDotum' not found.\n",
            "WARNING:matplotlib.font_manager:findfont: Font family 'KoPubDotum' not found.\n",
            "WARNING:matplotlib.font_manager:findfont: Font family 'KoPubDotum' not found.\n",
            "WARNING:matplotlib.font_manager:findfont: Font family 'KoPubDotum' not found.\n",
            "WARNING:matplotlib.font_manager:findfont: Font family 'KoPubDotum' not found.\n",
            "WARNING:matplotlib.font_manager:findfont: Font family 'KoPubDotum' not found.\n",
            "WARNING:matplotlib.font_manager:findfont: Font family 'KoPubDotum' not found.\n",
            "WARNING:matplotlib.font_manager:findfont: Font family 'KoPubDotum' not found.\n",
            "WARNING:matplotlib.font_manager:findfont: Font family 'KoPubDotum' not found.\n",
            "WARNING:matplotlib.font_manager:findfont: Font family 'KoPubDotum' not found.\n",
            "WARNING:matplotlib.font_manager:findfont: Font family 'KoPubDotum' not found.\n",
            "WARNING:matplotlib.font_manager:findfont: Font family 'KoPubDotum' not found.\n",
            "WARNING:matplotlib.font_manager:findfont: Font family 'KoPubDotum' not found.\n",
            "WARNING:matplotlib.font_manager:findfont: Font family 'KoPubDotum' not found.\n",
            "WARNING:matplotlib.font_manager:findfont: Font family 'KoPubDotum' not found.\n",
            "WARNING:matplotlib.font_manager:findfont: Font family 'KoPubDotum' not found.\n",
            "WARNING:matplotlib.font_manager:findfont: Font family 'KoPubDotum' not found.\n",
            "WARNING:matplotlib.font_manager:findfont: Font family 'KoPubDotum' not found.\n",
            "WARNING:matplotlib.font_manager:findfont: Font family 'KoPubDotum' not found.\n",
            "WARNING:matplotlib.font_manager:findfont: Font family 'KoPubDotum' not found.\n",
            "WARNING:matplotlib.font_manager:findfont: Font family 'KoPubDotum' not found.\n",
            "WARNING:matplotlib.font_manager:findfont: Font family 'KoPubDotum' not found.\n",
            "WARNING:matplotlib.font_manager:findfont: Font family 'KoPubDotum' not found.\n",
            "WARNING:matplotlib.font_manager:findfont: Font family 'KoPubDotum' not found.\n",
            "WARNING:matplotlib.font_manager:findfont: Font family 'KoPubDotum' not found.\n",
            "WARNING:matplotlib.font_manager:findfont: Font family 'KoPubDotum' not found.\n",
            "WARNING:matplotlib.font_manager:findfont: Font family 'KoPubDotum' not found.\n",
            "WARNING:matplotlib.font_manager:findfont: Font family 'KoPubDotum' not found.\n",
            "WARNING:matplotlib.font_manager:findfont: Font family 'KoPubDotum' not found.\n",
            "WARNING:matplotlib.font_manager:findfont: Font family 'KoPubDotum' not found.\n",
            "WARNING:matplotlib.font_manager:findfont: Font family 'KoPubDotum' not found.\n",
            "WARNING:matplotlib.font_manager:findfont: Font family 'KoPubDotum' not found.\n",
            "WARNING:matplotlib.font_manager:findfont: Font family 'KoPubDotum' not found.\n",
            "WARNING:matplotlib.font_manager:findfont: Font family 'KoPubDotum' not found.\n",
            "WARNING:matplotlib.font_manager:findfont: Font family 'KoPubDotum' not found.\n",
            "WARNING:matplotlib.font_manager:findfont: Font family 'KoPubDotum' not found.\n",
            "WARNING:matplotlib.font_manager:findfont: Font family 'KoPubDotum' not found.\n",
            "WARNING:matplotlib.font_manager:findfont: Font family 'KoPubDotum' not found.\n",
            "WARNING:matplotlib.font_manager:findfont: Font family 'KoPubDotum' not found.\n",
            "WARNING:matplotlib.font_manager:findfont: Font family 'KoPubDotum' not found.\n",
            "WARNING:matplotlib.font_manager:findfont: Font family 'KoPubDotum' not found.\n",
            "WARNING:matplotlib.font_manager:findfont: Font family 'KoPubDotum' not found.\n",
            "WARNING:matplotlib.font_manager:findfont: Font family 'KoPubDotum' not found.\n",
            "WARNING:matplotlib.font_manager:findfont: Font family 'KoPubDotum' not found.\n",
            "WARNING:matplotlib.font_manager:findfont: Font family 'KoPubDotum' not found.\n",
            "WARNING:matplotlib.font_manager:findfont: Font family 'KoPubDotum' not found.\n",
            "WARNING:matplotlib.font_manager:findfont: Font family 'KoPubDotum' not found.\n",
            "WARNING:matplotlib.font_manager:findfont: Font family 'KoPubDotum' not found.\n",
            "WARNING:matplotlib.font_manager:findfont: Font family 'KoPubDotum' not found.\n",
            "WARNING:matplotlib.font_manager:findfont: Font family 'KoPubDotum' not found.\n",
            "WARNING:matplotlib.font_manager:findfont: Font family 'KoPubDotum' not found.\n",
            "WARNING:matplotlib.font_manager:findfont: Font family 'KoPubDotum' not found.\n",
            "WARNING:matplotlib.font_manager:findfont: Font family 'KoPubDotum' not found.\n",
            "WARNING:matplotlib.font_manager:findfont: Font family 'KoPubDotum' not found.\n",
            "WARNING:matplotlib.font_manager:findfont: Font family 'KoPubDotum' not found.\n",
            "WARNING:matplotlib.font_manager:findfont: Font family 'KoPubDotum' not found.\n",
            "WARNING:matplotlib.font_manager:findfont: Font family 'KoPubDotum' not found.\n",
            "WARNING:matplotlib.font_manager:findfont: Font family 'KoPubDotum' not found.\n",
            "WARNING:matplotlib.font_manager:findfont: Font family 'KoPubDotum' not found.\n",
            "WARNING:matplotlib.font_manager:findfont: Font family 'KoPubDotum' not found.\n",
            "WARNING:matplotlib.font_manager:findfont: Font family 'KoPubDotum' not found.\n",
            "WARNING:matplotlib.font_manager:findfont: Font family 'KoPubDotum' not found.\n",
            "WARNING:matplotlib.font_manager:findfont: Font family 'KoPubDotum' not found.\n",
            "WARNING:matplotlib.font_manager:findfont: Font family 'KoPubDotum' not found.\n",
            "WARNING:matplotlib.font_manager:findfont: Font family 'KoPubDotum' not found.\n",
            "WARNING:matplotlib.font_manager:findfont: Font family 'KoPubDotum' not found.\n",
            "WARNING:matplotlib.font_manager:findfont: Font family 'KoPubDotum' not found.\n",
            "WARNING:matplotlib.font_manager:findfont: Font family 'KoPubDotum' not found.\n",
            "WARNING:matplotlib.font_manager:findfont: Font family 'KoPubDotum' not found.\n",
            "WARNING:matplotlib.font_manager:findfont: Font family 'KoPubDotum' not found.\n",
            "WARNING:matplotlib.font_manager:findfont: Font family 'KoPubDotum' not found.\n",
            "WARNING:matplotlib.font_manager:findfont: Font family 'KoPubDotum' not found.\n",
            "WARNING:matplotlib.font_manager:findfont: Font family 'KoPubDotum' not found.\n",
            "WARNING:matplotlib.font_manager:findfont: Font family 'KoPubDotum' not found.\n",
            "WARNING:matplotlib.font_manager:findfont: Font family 'KoPubDotum' not found.\n",
            "WARNING:matplotlib.font_manager:findfont: Font family 'KoPubDotum' not found.\n",
            "WARNING:matplotlib.font_manager:findfont: Font family 'KoPubDotum' not found.\n",
            "WARNING:matplotlib.font_manager:findfont: Font family 'KoPubDotum' not found.\n",
            "WARNING:matplotlib.font_manager:findfont: Font family 'KoPubDotum' not found.\n"
          ]
        },
        {
          "output_type": "display_data",
          "data": {
            "text/plain": [
              "<Figure size 640x480 with 1 Axes>"
            ],
            "image/png": "[encoded data removed]"
          },
          "metadata": {}
        }
      ]
    }
  ]
}